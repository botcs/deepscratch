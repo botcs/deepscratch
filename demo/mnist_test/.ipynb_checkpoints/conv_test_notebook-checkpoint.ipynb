{
 "cells": [
  {
   "cell_type": "code",
   "execution_count": 1,
   "metadata": {
    "collapsed": false
   },
   "outputs": [
    {
     "name": "stdout",
     "output_type": "stream",
     "text": [
      "Loading MNIST images...\n",
      "9816\n"
     ]
    }
   ],
   "source": [
    "import matplotlib.pyplot as plt\n",
    "import sys\n",
    "import numpy as np\n",
    "import network_module as nm\n",
    "import argparse\n",
    "\n",
    "def print_csv(filename, data):\n",
    "    with open(filename, 'wb') as out:\n",
    "        for t in data:\n",
    "            out.write('{}\\t{}\\n'.format(*t))\n",
    "\n",
    "\n",
    "# layer_params = sys.argv[1:]\n",
    "\n",
    "# netname = 'mnist-fc-784-'\n",
    "# for width in layer_params:\n",
    "#     netname += '{}-'.format(width)\n",
    "# netname += '10'\n",
    "reg = 0\n",
    "L1 = False\n",
    "L2 = False\n",
    "L05 = False\n",
    "netname = 'conv5-3x3-maxpool-100'\n",
    "data_source = \"https://www.cs.toronto.edu/~kriz/cifar-10-python.tar.gz\"\n",
    "\n",
    "def loadmnist():\n",
    "    import cPickle, gzip, numpy\n",
    "\n",
    "    # Load the dataset\n",
    "    f = gzip.open('./MNIST_data/mnist.pkl.gz', 'rb')\n",
    "    sets = cPickle.load(f)\n",
    "    f.close()\n",
    "    res = []\n",
    "    for set in sets:\n",
    "        set[0].shape = (-1, 1, 28, 28)\n",
    "\n",
    "        label = set[1]\n",
    "        onehot = np.zeros((label.size, label.max() + 1))\n",
    "        onehot[np.arange(label.size), label] = 1\n",
    "        res.append((set[0].reshape(-1, 1, 28, 28), onehot))\n",
    "    return res\n",
    "\n",
    "\n",
    "print 'Loading MNIST images...'\n",
    "train, test, _= loadmnist()\n",
    "\n",
    "\n",
    "# train = (np.zeros((50, 1, 20, 20)), np.zeros((50 ,1 ,8 , 8)))\n",
    "# train[0][0,:,5,5] = 0.5\n",
    "# train[1][0,:,4,4] = 1\n",
    "\n",
    "def loadnetwork(network_source):\n",
    "    global nn\n",
    "    nn = nm.load(network_source)\n",
    "\n",
    "    \n",
    "def imshow(im, cmap='Greys', interpol='None'):\n",
    "    plt.subplots_adjust(left=0, bottom=0, right=1, top=1, wspace=0, hspace=0)\n",
    "    if len(im.shape) == 3:\n",
    "        for i, x in enumerate(im, 1):\n",
    "            plt.subplot(1, len(im), i)\n",
    "            plt.imshow(x.squeeze(), cmap=cmap, interpolation=interpol)\n",
    "            plt.gca().xaxis.set_major_locator(plt.NullLocator())\n",
    "            plt.gca().yaxis.set_major_locator(plt.NullLocator())\n",
    "    if len(im.shape) == 4:\n",
    "        for irow, xrow in enumerate(im, 0):\n",
    "            for icol, x in enumerate(xrow, 1):\n",
    "                # print '\\r  ', len(im), len(xrow), irow * len(xrow) + icol\n",
    "                plt.subplot(len(im), len(xrow), irow * len(xrow) + icol)\n",
    "                plt.imshow(x.squeeze(), cmap=cmap, interpolation=interpol)\n",
    "                plt.gca().xaxis.set_major_locator(plt.NullLocator())\n",
    "                plt.gca().yaxis.set_major_locator(plt.NullLocator())\n",
    "    plt.show()\n",
    "    return im.shape\n",
    "\n",
    "\n",
    "def visualise_layer(layer_ind=4, top=9, epoch=10, activation_set=train[0], biased=False, rate=0.05):\n",
    "    test = nn.grad_ascent(\n",
    "        layer_ind=layer_ind, \n",
    "        activation_set=activation_set, \n",
    "        top=top, \n",
    "        epoch=epoch, \n",
    "        biased=biased)\n",
    "    test = test.reshape((top,) + nn[layer_ind].shape + (28, 28))\n",
    "    test = np.concatenate((test, test.mean(axis=0)[np.newaxis, :]), axis=0)\n",
    "    return test\n",
    "\n",
    "def max_act(lay_ind, top=9):\n",
    "    return test[0][nn.max_act(lay_ind, test[0], top)].squeeze()\n",
    "\n",
    "\n",
    "\n",
    "loadnetwork('./nets/mnist-fc-784-784-784-100-10.net')\n",
    "print nn.test_eval(test)\n",
    "\n"
   ]
  },
  {
   "cell_type": "code",
   "execution_count": 2,
   "metadata": {
    "collapsed": false
   },
   "outputs": [],
   "source": [
    "i = nn.max_act(8, train[0], 100)\n",
    "ordimg = train[0][i].squeeze()\n",
    "#imshow(ordimg.mean(0).reshape(2,5,28,28))"
   ]
  },
  {
   "cell_type": "code",
   "execution_count": 41,
   "metadata": {
    "collapsed": false
   },
   "outputs": [
    {
     "name": "stdout",
     "output_type": "stream",
     "text": [
      " GA:  10       --- Done!\n",
      " GA:  10       --- Done!\n",
      " GA:  10       --- Done!\n",
      " GA:  10       --- Done!\n"
     ]
    }
   ],
   "source": [
    "noise = np.random.randn(*train[0][:10].shape)\n",
    "noiseNB = visualise_layer(layer_ind=8, activation_set=noise, biased=False, top=10)\n",
    "noiseB = visualise_layer(layer_ind=8, activation_set=noise, biased=True, top=10)\n",
    "\n",
    "i = nn.max_act(8, train[0], 1)\n",
    "ordimg = train[0][i].squeeze()\n",
    "imgNB= visualise_layer(layer_ind=8, activation_set=ordimg, biased=False, top=10)\n",
    "imgB = visualise_layer(layer_ind=8, activation_set=ordimg, biased=True, top=10)"
   ]
  },
  {
   "cell_type": "code",
   "execution_count": 46,
   "metadata": {
    "collapsed": false
   },
   "outputs": [
    {
     "name": "stdout",
     "output_type": "stream",
     "text": [
      " GA:  1       --- Done!\n",
      " GA:  1       --- Done!\n",
      " GA:  1       --- Done!\n",
      " GA:  1       --- Done!\n"
     ]
    }
   ],
   "source": [
    "e = 1\n",
    "noise = np.random.randn(*train[0][:10].shape)\n",
    "noiseNB = visualise_layer(layer_ind=8, activation_set=noise, biased=False, top=10, epoch=e)\n",
    "noiseB = visualise_layer(layer_ind=8, activation_set=noise, biased=True, top=10, epoch=e)\n",
    "\n",
    "i = nn.max_act(8, train[0], 1)\n",
    "ordimg = train[0][i].squeeze()\n",
    "imgNB= visualise_layer(layer_ind=8, activation_set=ordimg, biased=False, top=10, epoch=e)\n",
    "imgB = visualise_layer(layer_ind=8, activation_set=ordimg, biased=True, top=10, epoch=e)\n"
   ]
  },
  {
   "cell_type": "code",
   "execution_count": 56,
   "metadata": {
    "collapsed": false
   },
   "outputs": [
    {
     "name": "stdout",
     "output_type": "stream",
     "text": [
      " GA:  20       --- Done!\n",
      " GA:  20       --- Done!\n",
      " GA:  20       --- Done!\n",
      " GA:  20       --- Done!\n"
     ]
    }
   ],
   "source": [
    "e = 20\n",
    "noise = np.random.randn(*train[0][:10].shape)\n",
    "noiseNB = visualise_layer(layer_ind=8, activation_set=noise, biased=False, top=10, epoch=e)\n",
    "noiseB = visualise_layer(layer_ind=8, activation_set=noise, biased=True, top=10, epoch=e)\n",
    "\n",
    "i = nn.max_act(8, train[0], 1)\n",
    "ordimg = train[0][i].squeeze()\n",
    "imgNB= visualise_layer(layer_ind=8, activation_set=ordimg, biased=False, top=10, epoch=e)\n",
    "imgB = visualise_layer(layer_ind=8, activation_set=ordimg, biased=True, top=10, epoch=e)"
   ]
  },
  {
   "cell_type": "code",
   "execution_count": 63,
   "metadata": {
    "collapsed": false
   },
   "outputs": [
    {
     "name": "stdout",
     "output_type": "stream",
     "text": [
      " GA:  50       --- Done!\n",
      " GA:  50       --- Done!\n",
      " GA:  50       --- Done!\n",
      " GA:  50       --- Done!\n"
     ]
    }
   ],
   "source": [
    "e = 50\n",
    "noise = np.random.randn(*train[0][:10].shape)\n",
    "noiseNB = visualise_layer(layer_ind=8, activation_set=noise, biased=False, top=10, epoch=e)\n",
    "noiseB = visualise_layer(layer_ind=8, activation_set=noise, biased=True, top=10, epoch=e)\n",
    "\n",
    "i = nn.max_act(8, train[0], 1)\n",
    "ordimg = train[0][i].squeeze()\n",
    "imgNB= visualise_layer(layer_ind=8, activation_set=ordimg, biased=False, top=10, epoch=e)\n",
    "imgB = visualise_layer(layer_ind=8, activation_set=ordimg, biased=True, top=10, epoch=e)"
   ]
  },
  {
   "cell_type": "code",
   "execution_count": 74,
   "metadata": {
    "collapsed": false
   },
   "outputs": [
    {
     "name": "stdout",
     "output_type": "stream",
     "text": [
      " GA:  20       --- Done!\n",
      " GA:  20       --- Done!\n",
      " GA:  20       --- Done!\n",
      " GA:  20       --- Done!\n"
     ]
    }
   ],
   "source": [
    "e = 20\n",
    "noise = np.random.randn(*train[0][:10].shape)\n",
    "noiseNB = visualise_layer(layer_ind=8, activation_set=noise, biased=False, top=10, epoch=e)\n",
    "noiseB = visualise_layer(layer_ind=8, activation_set=noise, biased=True, top=10, epoch=e)\n",
    "\n",
    "i = nn.max_act(8, train[0], 1)\n",
    "ordimg = train[0][i].squeeze()\n",
    "imgNB= visualise_layer(layer_ind=8, activation_set=ordimg, biased=False, top=10, epoch=e)\n",
    "imgB = visualise_layer(layer_ind=8, activation_set=ordimg, biased=True, top=10, epoch=e)"
   ]
  },
  {
   "cell_type": "code",
   "execution_count": 16,
   "metadata": {
    "collapsed": false
   },
   "outputs": [
    {
     "name": "stdout",
     "output_type": "stream",
     "text": [
      " GA:  500       --- Done!\n",
      " GA:  500       --- Done!\n",
      " GA:  500       --- Done!\n",
      " GA:  500       --- Done!\n"
     ]
    },
    {
     "data": {
      "text/plain": [
       "(4, 10, 28, 28)"
      ]
     },
     "execution_count": 16,
     "metadata": {},
     "output_type": "execute_result"
    }
   ],
   "source": [
    "e = 500\n",
    "noise = np.random.randn(*train[0][:10].shape)\n",
    "noiseNB = visualise_layer(layer_ind=8, activation_set=noise, biased=False, top=10, epoch=e)\n",
    "noiseB = visualise_layer(layer_ind=8, activation_set=noise, biased=True, top=10, epoch=e)\n",
    "\n",
    "i = nn.max_act(8, train[0], 1)\n",
    "ordimg = train[0][i].squeeze()\n",
    "imgNB= visualise_layer(layer_ind=8, activation_set=ordimg, biased=False, top=10, epoch=e)\n",
    "imgB = visualise_layer(layer_ind=8, activation_set=ordimg, biased=True, top=10, epoch=e)\n",
    "\n",
    "imshow(imgB)\n",
    "imshow(np.vstack([imgNB[0], imgB[0], noiseNB[0], noiseB[0]]).reshape(4,10,28,28))"
   ]
  },
  {
   "cell_type": "code",
   "execution_count": 7,
   "metadata": {
    "collapsed": false
   },
   "outputs": [
    {
     "data": {
      "text/plain": [
       "(11, 10, 28, 28)"
      ]
     },
     "execution_count": 7,
     "metadata": {},
     "output_type": "execute_result"
    }
   ],
   "source": [
    "\n",
    "imshow(imgB)"
   ]
  },
  {
   "cell_type": "code",
   "execution_count": 83,
   "metadata": {
    "collapsed": false
   },
   "outputs": [
    {
     "data": {
      "text/plain": [
       "(4, 10, 28, 28)"
      ]
     },
     "execution_count": 83,
     "metadata": {},
     "output_type": "execute_result"
    }
   ],
   "source": [
    "imshow(np.vstack([imgNB[0], imgB[0], noiseNB[0], noiseB[0]]).reshape(4,10,28,28))"
   ]
  },
  {
   "cell_type": "code",
   "execution_count": 6,
   "metadata": {
    "collapsed": false
   },
   "outputs": [
    {
     "data": {
      "text/plain": [
       "(10, 28, 28)"
      ]
     },
     "execution_count": 6,
     "metadata": {},
     "output_type": "execute_result"
    }
   ],
   "source": [
    "imshow(ordimg[0])"
   ]
  },
  {
   "cell_type": "code",
   "execution_count": 17,
   "metadata": {
    "collapsed": false
   },
   "outputs": [
    {
     "name": "stdout",
     "output_type": "stream",
     "text": [
      "0 (0, 2701.439898773604)\n",
      "1 (0, 10087.211057789042)\n",
      "2 (2, 18285.024007112141)\n",
      "3 (0, 13491.501754273706)\n",
      "4 (0, 6377.6334581777937)\n",
      "5 (0, 8505.9923496174433)\n",
      "6 (0, 16831.780469222344)\n",
      "7 (0, 9305.5005503052635)\n",
      "8 (0, 1990.3355537863895)\n",
      "9 (0, 2970.6864772619456)\n"
     ]
    },
    {
     "name": "stderr",
     "output_type": "stream",
     "text": [
      "layer_module.py:274: RuntimeWarning: invalid value encountered in divide\n",
      "  'softmax': lambda x: np.exp(x-np.max(x)) / np.sum(np.exp(x-np.max(x)), axis=1)[:, np.newaxis]\n"
     ]
    }
   ],
   "source": [
    "\n",
    "nn.get_output(imgNB[-2])\n",
    "for i, n in enumerate(zip( nn.output.output.argmax(1), nn[8].output.max(1))): print i, n"
   ]
  },
  {
   "cell_type": "code",
   "execution_count": 14,
   "metadata": {
    "collapsed": false
   },
   "outputs": [],
   "source": [
    "noise = np.random.randn(*train[0].shape)\n",
    "nn.get_output(noise[:10])\n",
    "biasgrad1 = nn.backprop_one_hot(layer_ind=8, biased=True)\n",
    "nobiasgrad1 = nn.backprop_one_hot(layer_ind=8, biased=False)"
   ]
  },
  {
   "cell_type": "code",
   "execution_count": 15,
   "metadata": {
    "collapsed": false
   },
   "outputs": [
    {
     "data": {
      "text/plain": [
       "(2, 10, 28, 28)"
      ]
     },
     "execution_count": 15,
     "metadata": {},
     "output_type": "execute_result"
    }
   ],
   "source": [
    "imshow(np.vstack([nobiasgrad1, biasgrad1]).reshape(2,10,28,28))"
   ]
  },
  {
   "cell_type": "code",
   "execution_count": 15,
   "metadata": {
    "collapsed": false
   },
   "outputs": [
    {
     "name": "stdout",
     "output_type": "stream",
     "text": [
      "0 5\n",
      "1 1\n",
      "2 7\n",
      "3 2\n",
      "4 1\n",
      "5 7\n",
      "6 4\n",
      "7 7\n",
      "8 7\n",
      "9 1\n"
     ]
    }
   ],
   "source": [
    "nn.get_output(noise[:10])\n",
    "for i, n in enumerate(nn.output.output.argmax(1)): print i, n"
   ]
  },
  {
   "cell_type": "code",
   "execution_count": 18,
   "metadata": {
    "collapsed": false
   },
   "outputs": [
    {
     "name": "stdout",
     "output_type": "stream",
     "text": [
      "0 (1, 7.7342259296986953)\n",
      "1 (3, 114.69476394943985)\n",
      "2 (2, 171.75206043105547)\n",
      "3 (3, 155.47750884978484)\n",
      "4 (7, 58.496080902112979)\n",
      "5 (1, 41.147882144012328)\n",
      "6 (7, 41.945653865996888)\n",
      "7 (7, 133.26866380301598)\n",
      "8 (2, 59.351321721730798)\n",
      "9 (5, 51.368408232294591)\n"
     ]
    }
   ],
   "source": [
    "nn.get_output(nobiasgrad1)\n",
    "for i, n in enumerate(zip( nn.output.output.argmax(1), nn[8].output.max(1))): print i, n"
   ]
  },
  {
   "cell_type": "code",
   "execution_count": 19,
   "metadata": {
    "collapsed": false
   },
   "outputs": [
    {
     "name": "stdout",
     "output_type": "stream",
     "text": [
      "0 (9, 12.475155735496816)\n",
      "1 (3, 145.47075452278349)\n",
      "2 (2, 289.0345172984641)\n",
      "3 (3, 212.13470411768824)\n",
      "4 (7, 38.633177068582185)\n",
      "5 (5, 55.91717339847505)\n",
      "6 (7, 93.299346484512995)\n",
      "7 (7, 214.03542028274154)\n",
      "8 (2, 49.130194769418495)\n",
      "9 (9, 77.912231419854209)\n"
     ]
    }
   ],
   "source": [
    "nn.get_output(biasgrad1)\n",
    "for i, n in enumerate(zip( nn.output.output.argmax(1), nn[8].output.max(1))): print i, n"
   ]
  },
  {
   "cell_type": "code",
   "execution_count": 7,
   "metadata": {
    "collapsed": false
   },
   "outputs": [
    {
     "data": {
      "text/plain": [
       "(2, 5, 28, 28)"
      ]
     },
     "execution_count": 7,
     "metadata": {},
     "output_type": "execute_result"
    }
   ],
   "source": [
    "imshow(O_10[-1].reshape(2,5,28,28))"
   ]
  },
  {
   "cell_type": "code",
   "execution_count": 9,
   "metadata": {
    "collapsed": false
   },
   "outputs": [
    {
     "data": {
      "text/plain": [
       "(2, 5, 28, 28)"
      ]
     },
     "execution_count": 9,
     "metadata": {},
     "output_type": "execute_result"
    }
   ],
   "source": [
    "imshow(O_50[-1, ].reshape(2,5,28,28))"
   ]
  },
  {
   "cell_type": "code",
   "execution_count": null,
   "metadata": {
    "collapsed": true,
    "slideshow": {
     "slide_type": "slide"
    }
   },
   "outputs": [],
   "source": [
    "H1_10 = visualise_layer(lay_ind=2, top=100, iterations=10)\n",
    "H2_10 = visualise_layer(lay_ind=4, top=100, iterations=10)\n",
    "H3_10 = visualise_layer(lay_ind=6, top=100, iterations=10)\n",
    "O_10 = visualise_layer(lay_ind=8, top=100, iterations=10)"
   ]
  },
  {
   "cell_type": "code",
   "execution_count": 8,
   "metadata": {
    "collapsed": false
   },
   "outputs": [
    {
     "name": "stdout",
     "output_type": "stream",
     "text": [
      " GA:  0     \n",
      " GA:  1     \n",
      " GA:  2     \n",
      " GA:  3     \n",
      " GA:  4     \n",
      " GA:  5     \n",
      " GA:  6     \n",
      " GA:  7     \n",
      " GA:  8     \n",
      " GA:  9     \n",
      " GA:  10     \n",
      " GA:  11     \n",
      " GA:  12     \n",
      " GA:  13     \n",
      " GA:  14     \n",
      " GA:  15     \n",
      " GA:  16     \n",
      " GA:  17     \n",
      " GA:  18     \n",
      " GA:  19     \n",
      " GA:  20     \n",
      " GA:  21     \n",
      " GA:  22     \n",
      " GA:  23     \n",
      " GA:  24     \n",
      " GA:  25     \n",
      " GA:  26     \n",
      " GA:  27     \n",
      " GA:  28     \n",
      " GA:  29     \n",
      " GA:  30     \n",
      " GA:  31     \n",
      " GA:  32     \n",
      " GA:  33     \n",
      " GA:  34     \n",
      " GA:  35     \n",
      " GA:  36     \n",
      " GA:  37     \n",
      " GA:  38     \n",
      " GA:  39     \n",
      " GA:  40     \n",
      " GA:  41     \n",
      " GA:  42     \n",
      " GA:  43     \n",
      " GA:  44     \n",
      " GA:  45     \n",
      " GA:  46     \n",
      " GA:  47     \n",
      " GA:  48     \n",
      " GA:  49     \n"
     ]
    }
   ],
   "source": [
    "O_50 = visualise_layer(lay_ind=8, top=100, iterations=50)"
   ]
  },
  {
   "cell_type": "code",
   "execution_count": 8,
   "metadata": {
    "collapsed": false
   },
   "outputs": [
    {
     "name": "stdout",
     "output_type": "stream",
     "text": [
      " GA:  0     \n",
      " GA:  1     \n",
      " GA:  2     \n",
      " GA:  3     \n",
      " GA:  4     \n",
      " GA:  5     \n",
      " GA:  6     \n",
      " GA:  7     \n",
      " GA:  8     \n",
      " GA:  9     \n"
     ]
    }
   ],
   "source": [
    "NA1 = noise_ascent()"
   ]
  },
  {
   "cell_type": "code",
   "execution_count": 13,
   "metadata": {
    "collapsed": false
   },
   "outputs": [
    {
     "data": {
      "text/plain": [
       "(10, 10, 28, 28)"
      ]
     },
     "execution_count": 13,
     "metadata": {},
     "output_type": "execute_result"
    }
   ],
   "source": [
    "imshow(NA1[-1, :100].reshape(10,10, 28, 28))"
   ]
  },
  {
   "cell_type": "markdown",
   "metadata": {},
   "source": [
    "nn"
   ]
  },
  {
   "cell_type": "code",
   "execution_count": 14,
   "metadata": {
    "collapsed": false
   },
   "outputs": [
    {
     "data": {
      "text/plain": [
       "Network ID: 26215760\n",
       "Network layout:\n",
       "------------------------------\n",
       "\tINPUT  (1, 28, 28)\n",
       "\t   |\n",
       "\t   |\n",
       "\t  |1|\n",
       "  shaper  (784,)\n",
       "\t   |\n",
       "\t   |\n",
       "\t  |2|\n",
       "  fully connected  (784,)   ->   weights + bias: (784, 784) + (784,)\n",
       "\t   |\n",
       "\t   |\n",
       "\t  |3|\n",
       "  activation (784,)   ->   type: relu\n",
       "\t   |\n",
       "\t   |\n",
       "\t  |4|\n",
       "  fully connected  (784,)   ->   weights + bias: (784, 784) + (784,)\n",
       "\t   |\n",
       "\t   |\n",
       "\t  |5|\n",
       "  activation (784,)   ->   type: relu\n",
       "\t   |\n",
       "\t   |\n",
       "\t  |6|\n",
       "  fully connected  (100,)   ->   weights + bias: (100, 784) + (100,)\n",
       "\t   |\n",
       "\t   |\n",
       "\t  |7|\n",
       "  activation (100,)   ->   type: relu\n",
       "\t   |\n",
       "\t   |\n",
       "\t  |8|\n",
       "  fully connected  (10,)   ->   weights + bias: (10, 100) + (10,)\n",
       "\t   |\n",
       "\t   |\n",
       "\t  |9|\n",
       "  \tOUTPUT  (10,)   ->   CRITERION  (softmax)\n",
       "------------------------------"
      ]
     },
     "execution_count": 14,
     "metadata": {},
     "output_type": "execute_result"
    }
   ],
   "source": [
    "nn"
   ]
  },
  {
   "cell_type": "code",
   "execution_count": 17,
   "metadata": {
    "collapsed": false
   },
   "outputs": [],
   "source": [
    "m8 "
   ]
  },
  {
   "cell_type": "code",
   "execution_count": null,
   "metadata": {
    "collapsed": false
   },
   "outputs": [],
   "source": []
  },
  {
   "cell_type": "code",
   "execution_count": null,
   "metadata": {
    "collapsed": true
   },
   "outputs": [],
   "source": []
  }
 ],
 "metadata": {
  "kernelspec": {
   "display_name": "Python 2",
   "language": "python",
   "name": "python2"
  },
  "language_info": {
   "codemirror_mode": {
    "name": "ipython",
    "version": 2
   },
   "file_extension": ".py",
   "mimetype": "text/x-python",
   "name": "python",
   "nbconvert_exporter": "python",
   "pygments_lexer": "ipython2",
   "version": "2.7.5"
  }
 },
 "nbformat": 4,
 "nbformat_minor": 1
}
