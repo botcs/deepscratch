{
 "cells": [
  {
   "cell_type": "code",
   "execution_count": 33,
   "metadata": {
    "collapsed": false
   },
   "outputs": [
    {
     "name": "stdout",
     "output_type": "stream",
     "text": [
      "Loading MNIST images...\n",
      "Constructing network...\n",
      "Network ID: 140601605532880\n",
      "Network layout:\n",
      "------------------------------\n",
      "\tINPUT  (1, 28, 28)\n",
      "\t   |\n",
      "\t   |\n",
      "\t  |1|\n",
      "  convolution  (5, 26, 26)   ->   kernels: (1, 5, 3, 3)\n",
      "\t   |\n",
      "\t   |\n",
      "\t  |2|\n",
      "  shaper  (3380,)\n",
      "\t   |\n",
      "\t   |\n",
      "\t  |3|\n",
      "  activation (3380,)   ->   type: tanh\n",
      "\t   |\n",
      "\t   |\n",
      "\t  |4|\n",
      "  fully connected  (10,)   ->   weights + bias: (10, 3380) + (10,)\n",
      "\t   |\n",
      "\t   |\n",
      "\t  |5|\n",
      "  \tOUTPUT  (10,)   ->   CRITERION  (softmax)\n",
      "------------------------------\n",
      "Working with network: conv5-3x3-maxpool-100\n"
     ]
    }
   ],
   "source": [
    "import matplotlib.pyplot as plt\n",
    "import sys\n",
    "import numpy as np\n",
    "import network_module as nm\n",
    "import argparse\n",
    "\n",
    "def print_csv(filename, data):\n",
    "    with open(filename, 'wb') as out:\n",
    "        for t in data:\n",
    "            out.write('{}\\t{}\\n'.format(*t))\n",
    "\n",
    "\n",
    "# layer_params = sys.argv[1:]\n",
    "\n",
    "# netname = 'mnist-fc-784-'\n",
    "# for width in layer_params:\n",
    "#     netname += '{}-'.format(width)\n",
    "# netname += '10'\n",
    "reg = 0\n",
    "L1 = False\n",
    "L2 = False\n",
    "L05 = False\n",
    "netname = 'conv5-3x3-maxpool-100'\n",
    "\n",
    "def loadmnist():\n",
    "    import cPickle, gzip\n",
    "\n",
    "    # Load the dataset\n",
    "    f = gzip.open('./MNIST_data/mnist.pkl.gz', 'rb')\n",
    "    sets = cPickle.load(f)\n",
    "    f.close()\n",
    "    res = []\n",
    "    for set in sets:\n",
    "        set[0].shape = (-1, 1, 28, 28)\n",
    "\n",
    "        label = set[1]\n",
    "        onehot = np.zeros((label.size, label.max() + 1))\n",
    "        onehot[np.arange(label.size), label] = 1\n",
    "        res.append((set[0].reshape(-1, 1, 28, 28), onehot))\n",
    "    return res\n",
    "\n",
    "\n",
    "print 'Loading MNIST images...'\n",
    "train, valid, test = loadmnist()\n",
    "\n",
    "\n",
    "\n",
    "\n",
    "print 'Constructing network...'\n",
    "#########################\n",
    "# NETWORK DEFINITION\n",
    "nn = nm.network(in_shape=train[0][0].shape, criterion='softmax')\n",
    "nn.add_conv(5, (3, 3))\n",
    "nn.add_shaper(np.prod(nn[-1].shape))\n",
    "nn.add_activation('tanh')\n",
    "nn.add_full(10)\n",
    "#########################\n",
    "print nn\n",
    "\n",
    "result = []\n",
    "\n",
    "\n",
    "def print_test():\n",
    "    print ' --- Epoch: ', nn.last_epoch, ' error: ',\\\n",
    "          nn.output.get_crit(train[0][0:16], train[1][0:16]).mean()\n",
    "\n",
    "print 'Working with network:', netname\n",
    "def train_net():\n",
    "  print 'Working with network:', netname\n",
    "  nn.SGD(train_policy=nn.fix_epoch,\n",
    "         training_set=train,\n",
    "         batch=128, rate=0.5, epoch_call_back=print_test, epoch=10)\n",
    "\n",
    "\n",
    "  print 'Saving results to {}.res'.format(netname)\n",
    "  print_csv('./results/{}.res'.format(netname), result)\n",
    "\n",
    "  print 'Saving network snapshot to {}.net'.format(netname)\n",
    "  nn.save_state('./nets/' + netname + '.net')\n",
    "\n",
    "\n",
    "\n",
    "def loadnetwork(network_source):\n",
    "    global nn\n",
    "    nn = nm.load(network_source)\n",
    "\n",
    "    \n",
    "def imshow(im, cmap='Greys_r', interpol='None', v=False):\n",
    "\n",
    "    if len(im.shape) == 2:\n",
    "        plt.imshow(im.squeeze(), cmap=cmap, interpolation=interpol)\n",
    "        plt.axis('off')\n",
    "    \n",
    "    if len(im.shape) == 3:\n",
    "        for i, x in enumerate(im, 1):\n",
    "            plt.subplot(1, len(im), i)\n",
    "            plt.imshow(x.squeeze(), cmap=cmap, interpolation=interpol)\n",
    "            plt.gca().xaxis.set_major_locator(plt.NullLocator())\n",
    "            plt.axis('off')\n",
    "    if len(im.shape) == 4:\n",
    "        for irow, xrow in enumerate(im, 0):\n",
    "            for icol, x in enumerate(xrow, 1):\n",
    "                if v: print '\\r  ', len(im), len(xrow), irow * len(xrow) + icol\n",
    "                plt.subplot(len(im), len(xrow), irow * len(xrow) + icol)\n",
    "                plt.imshow(x.squeeze(), cmap=cmap, interpolation=interpol)\n",
    "                plt.gca().xaxis.set_major_locator(plt.NullLocator())\n",
    "                plt.axis('off')\n",
    "                \n",
    "    if len(im.shape) == 5:\n",
    "        for irow, xrow in enumerate(im, 0):\n",
    "            for icol, x in enumerate(xrow, 1):\n",
    "                if v: print '\\r  ', len(im), len(xrow), irow * len(xrow) + icol\n",
    "                plt.subplot(len(im), len(xrow), irow * len(xrow) + icol)\n",
    "                plt.imshow(x.squeeze(), cmap=cmap, interpolation=interpol)\n",
    "                plt.gca().xaxis.set_major_locator(plt.NullLocator())\n",
    "                plt.axis('off')\n",
    "    \n",
    "    plt.show()\n",
    "    return im.shape\n",
    "\n",
    "\n",
    "def visualise_layer(lay_ind=4, top=9, iterations=1000):\n",
    "    test = nn.grad_ascent(lay_ind, train[0], top, iterations)\\\n",
    "             .reshape((top,) + nn[lay_ind].shape + (3, 32, 32))\n",
    "    test = np.concatenate((test, test.mean(axis=0)[np.newaxis, :]), axis=0)\n",
    "    return test\n",
    "\n",
    "\n",
    "def max_act(lay_ind, top=9):\n",
    "    return test[0][nn.max_act(lay_ind, test[0], top)].squeeze()\n",
    "    \n",
    "def gradient_check(eps=0.001):\n",
    "    nn[1].kernels[0,0,0,0] += eps\n",
    "    dp = nn.output.get_crit(test[0][0], test[1][0])[0]\n",
    "    nn[1].kernels[0,0,0,0] -= 2 * eps\n",
    "    dm = nn.output.get_crit(test[0][0], test[1][0])[0]    \n",
    "    nn[1].kernels[0,0,0,0] += eps\n",
    "    return (dp-dm)/2/eps\n"
   ]
  },
  {
   "cell_type": "code",
   "execution_count": 51,
   "metadata": {
    "collapsed": false
   },
   "outputs": [
    {
     "name": "stdout",
     "output_type": "stream",
     "text": [
      "(1, 5, 3, 3)\n"
     ]
    },
    {
     "data": {
      "image/png": "[encoded data removed]",
      "text/plain": [
       "<matplotlib.figure.Figure at 0x7fe05beea890>"
      ]
     },
     "metadata": {},
     "output_type": "display_data"
    },
    {
     "data": {
      "image/png": "[encoded data removed]",
      "text/plain": [
       "<matplotlib.figure.Figure at 0x7fe05c7549d0>"
      ]
     },
     "metadata": {},
     "output_type": "display_data"
    },
    {
     "data": {
      "image/png": "[encoded data removed]",
      "text/plain": [
       "<matplotlib.figure.Figure at 0x7fe05cdc6e50>"
      ]
     },
     "metadata": {},
     "output_type": "display_data"
    },
    {
     "data": {
      "text/plain": [
       "(1, 5, 3, 3)"
      ]
     },
     "execution_count": 51,
     "metadata": {},
     "output_type": "execute_result"
    }
   ],
   "source": [
    "print nn[1].kernels.shape\n",
    "k1 = np.zeros((3,3))\n",
    "k1[1,1]=-1\n",
    "k2 = np.ones((3,3))\n",
    "k2[1,1]=-1\n",
    "k3 = np.eye(3)[1,1]\n",
    "k3=-1\n",
    "k4=np.array([[0,1,0], [1, -4, 1], [0, 1, 0]])\n",
    "nn[1].kernels[0, 0] = k1\n",
    "nn[1].kernels[0, 1] = k2\n",
    "nn[1].kernels[0, 2] = k3\n",
    "nn[1].kernels[0, 2] = k4\n",
    "nn.get_output(train[0][:3])\n",
    "imshow(nn[0].output)\n",
    "imshow(nn[1].output)\n",
    "imshow(nn[1].kernels)\n"
   ]
  },
  {
   "cell_type": "code",
   "execution_count": 34,
   "metadata": {
    "collapsed": false
   },
   "outputs": [],
   "source": [
    "train1=np.zeros((3,1,28,28))\n",
    "train1[0, :, 10, 10] = 1"
   ]
  },
  {
   "cell_type": "code",
   "execution_count": null,
   "metadata": {
    "collapsed": true
   },
   "outputs": [],
   "source": []
  }
 ],
 "metadata": {
  "kernelspec": {
   "display_name": "Python 2",
   "language": "python",
   "name": "python2"
  },
  "language_info": {
   "codemirror_mode": {
    "name": "ipython",
    "version": 2
   },
   "file_extension": ".py",
   "mimetype": "text/x-python",
   "name": "python",
   "nbconvert_exporter": "python",
   "pygments_lexer": "ipython2",
   "version": "2.7.9"
  }
 },
 "nbformat": 4,
 "nbformat_minor": 1
}
