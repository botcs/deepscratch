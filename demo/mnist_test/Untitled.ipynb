{
 "cells": [
  {
   "cell_type": "code",
   "execution_count": 1,
   "metadata": {
    "collapsed": true
   },
   "outputs": [],
   "source": [
    "import numpy as np"
   ]
  },
  {
   "cell_type": "code",
   "execution_count": 102,
   "metadata": {
    "collapsed": false
   },
   "outputs": [
    {
     "name": "stdout",
     "output_type": "stream",
     "text": [
      "[[[25 17 18 10 16 15  5  2  1]\n",
      "  [16  7 24 22 11 19  6 24 21]\n",
      "  [ 8 20 27 14 28 26 12 22 24]\n",
      "  [24 24  5 19  0 19  2 29 29]\n",
      "  [11 29 23  8  5 26  0  8 13]]\n",
      "\n",
      " [[21 13 17  9 17 25  7  7 29]\n",
      "  [ 1 23 15 11 14 20 29 18  1]\n",
      "  [ 0 22  5  1 13 12  5  4 16]\n",
      "  [ 5  7  3  1 20 29 28  2 19]\n",
      "  [14 15  9 15 18  5 25 19  6]]\n",
      "\n",
      " [[ 9 10 24 24 10 27 16  0 20]\n",
      "  [ 8  0  7 16 25 12  5 24 19]\n",
      "  [24 27 27  9 18 26  9  9  7]\n",
      "  [15 22 26 15  1  6  2 10 23]\n",
      "  [ 9  3  7  4  9 13 21  6  9]]\n",
      "\n",
      " [[19 29 13 11 29 21  4  8  9]\n",
      "  [ 9 28 26  1 24  5 16  8  0]\n",
      "  [20  7 14 18 18 11  3 25  3]\n",
      "  [24  6  1 26 19 24  0 28  4]\n",
      "  [15 21 27 25 14  4 28  9 24]]]\n",
      "[[[18 25]\n",
      "  [24 24]\n",
      "  [27 28]\n",
      "  [29 29]\n",
      "  [26 29]]\n",
      "\n",
      " [[25 29]\n",
      "  [23 29]\n",
      "  [16 22]\n",
      "  [28 29]\n",
      "  [19 25]]\n",
      "\n",
      " [[24 27]\n",
      "  [24 25]\n",
      "  [27 27]\n",
      "  [23 26]\n",
      "  [13 21]]\n",
      "\n",
      " [[29 29]\n",
      "  [26 28]\n",
      "  [20 25]\n",
      "  [26 28]\n",
      "  [27 28]]]\n"
     ]
    }
   ],
   "source": [
    "a = np.random.randint(30, size=(4,5,3,3)).reshape(4,5,-1)\n",
    "#print a\n",
    "# print a[:,:, -4:]\n",
    "ind = a.argpartition(-2, axis=2)[:, :, -2:]\n",
    "print a\n",
    "col = np.arange(a.shape[0])[:,None,None]\n",
    "row = np.arange(a.shape[1])[:,None]\n",
    "\n",
    "print a[col, row, ind]"
   ]
  },
  {
   "cell_type": "code",
   "execution_count": 109,
   "metadata": {
    "collapsed": false
   },
   "outputs": [],
   "source": [
    "def get_local_output(input):\n",
    "        flat_in = input.reshape(input.shape[0], input.shape[1], -1)\n",
    "        ind = np.argpartition(input, -k)[-k:]\n",
    "\n",
    "        ind = flat_in.argpartition(-k, axis=2)[:, :, -k:]\n",
    "        col = np.arange(a.shape[0])[:,None,None]\n",
    "        row = np.arange(a.shape[1])[:,None]\n",
    "    \n",
    "        mask = np.zeros_like(flat_in, dtype=bool)\n",
    "        mask[col, row, ind] = True\n",
    "        self_mask = mask.reshape(input.shape)\n",
    "        return input *self_mask"
   ]
  },
  {
   "cell_type": "code",
   "execution_count": 112,
   "metadata": {
    "collapsed": false
   },
   "outputs": [
    {
     "name": "stdout",
     "output_type": "stream",
     "text": [
      "[[[25 17 18 10 16 15  5  2  1]\n",
      "  [16  7 24 22 11 19  6 24 21]\n",
      "  [ 8 20 27 14 28 26 12 22 24]\n",
      "  [24 24  5 19  0 19  2 29 29]\n",
      "  [11 29 23  8  5 26  0  8 13]]\n",
      "\n",
      " [[21 13 17  9 17 25  7  7 29]\n",
      "  [ 1 23 15 11 14 20 29 18  1]\n",
      "  [ 0 22  5  1 13 12  5  4 16]\n",
      "  [ 5  7  3  1 20 29 28  2 19]\n",
      "  [14 15  9 15 18  5 25 19  6]]\n",
      "\n",
      " [[ 9 10 24 24 10 27 16  0 20]\n",
      "  [ 8  0  7 16 25 12  5 24 19]\n",
      "  [24 27 27  9 18 26  9  9  7]\n",
      "  [15 22 26 15  1  6  2 10 23]\n",
      "  [ 9  3  7  4  9 13 21  6  9]]\n",
      "\n",
      " [[19 29 13 11 29 21  4  8  9]\n",
      "  [ 9 28 26  1 24  5 16  8  0]\n",
      "  [20  7 14 18 18 11  3 25  3]\n",
      "  [24  6  1 26 19 24  0 28  4]\n",
      "  [15 21 27 25 14  4 28  9 24]]]\n",
      "[[[25  0 18  0  0  0  0  0  0]\n",
      "  [ 0  0 24  0  0  0  0 24  0]\n",
      "  [ 0  0 27  0 28  0  0  0  0]\n",
      "  [ 0  0  0  0  0  0  0 29 29]\n",
      "  [ 0 29  0  0  0 26  0  0  0]]\n",
      "\n",
      " [[ 0  0  0  0  0 25  0  0 29]\n",
      "  [ 0 23  0  0  0  0 29  0  0]\n",
      "  [ 0 22  0  0  0  0  0  0 16]\n",
      "  [ 0  0  0  0  0 29 28  0  0]\n",
      "  [ 0  0  0  0  0  0 25 19  0]]\n",
      "\n",
      " [[ 0  0  0 24  0 27  0  0  0]\n",
      "  [ 0  0  0  0 25  0  0 24  0]\n",
      "  [ 0 27 27  0  0  0  0  0  0]\n",
      "  [ 0  0 26  0  0  0  0  0 23]\n",
      "  [ 0  0  0  0  0 13 21  0  0]]\n",
      "\n",
      " [[ 0 29  0  0 29  0  0  0  0]\n",
      "  [ 0 28 26  0  0  0  0  0  0]\n",
      "  [20  0  0  0  0  0  0 25  0]\n",
      "  [ 0  0  0 26  0  0  0 28  0]\n",
      "  [ 0  0 27  0  0  0 28  0  0]]]\n"
     ]
    }
   ],
   "source": [
    "k=2\n",
    "print a\n",
    "print get_local_output(a)"
   ]
  },
  {
   "cell_type": "code",
   "execution_count": null,
   "metadata": {
    "collapsed": true
   },
   "outputs": [],
   "source": []
  }
 ],
 "metadata": {
  "kernelspec": {
   "display_name": "Python 2",
   "language": "python",
   "name": "python2"
  },
  "language_info": {
   "codemirror_mode": {
    "name": "ipython",
    "version": 2
   },
   "file_extension": ".py",
   "mimetype": "text/x-python",
   "name": "python",
   "nbconvert_exporter": "python",
   "pygments_lexer": "ipython2",
   "version": "2.7.12"
  }
 },
 "nbformat": 4,
 "nbformat_minor": 1
}
