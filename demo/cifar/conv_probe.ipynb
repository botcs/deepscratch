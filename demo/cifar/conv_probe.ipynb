{
 "cells": [
  {
   "cell_type": "code",
   "execution_count": 4,
   "metadata": {
    "collapsed": false
   },
   "outputs": [
    {
     "name": "stdout",
     "output_type": "stream",
     "text": [
      "Loading CIFAR images...\n",
      "Constructing network...\n",
      "Network ID: 139819613732624\n",
      "Network layout:\n",
      "------------------------------\n",
      "\tINPUT  (3, 32, 32)\n",
      "\t   |\n",
      "\t   |\n",
      "\t  |1|\n",
      "  convolution  (10, 30, 30)   ->   kernels: (10, 3, 3, 3)\n",
      "\t   |\n",
      "\t   |\n",
      "\t  |2|\n",
      "  max pool  (10, 15, 15)   ->   pool shape: (2, 2)\n",
      "\t   |\n",
      "\t   |\n",
      "\t  |3|\n",
      "  activation (10, 15, 15)   ->   type: relu\n",
      "\t   |\n",
      "\t   |\n",
      "\t  |4|\n",
      "  batch norm (10, 15, 15)   ->   mean = 0.5, std = 1\n",
      "\t   |\n",
      "\t   |\n",
      "\t  |5|\n",
      "  convolution  (10, 13, 13)   ->   kernels: (10, 10, 3, 3)\n",
      "\t   |\n",
      "\t   |\n",
      "\t  |6|\n",
      "  activation (10, 13, 13)   ->   type: relu\n",
      "\t   |\n",
      "\t   |\n",
      "\t  |7|\n",
      "  convolution  (10, 11, 11)   ->   kernels: (10, 10, 3, 3)\n",
      "\t   |\n",
      "\t   |\n",
      "\t  |8|\n",
      "  activation (10, 11, 11)   ->   type: relu\n",
      "\t   |\n",
      "\t   |\n",
      "\t  |9|\n",
      "  batch norm (10, 11, 11)   ->   mean = 0.5, std = 1\n",
      "\t   |\n",
      "\t   |\n",
      "\t  |10|\n",
      "  shaper  (1210,)\n",
      "\t   |\n",
      "\t   |\n",
      "\t  |11|\n",
      "  fully connected  (100,)   ->   weights + bias: (100, 1210) + (100,)\n",
      "\t   |\n",
      "\t   |\n",
      "\t  |12|\n",
      "  activation (100,)   ->   type: tanh\n",
      "\t   |\n",
      "\t   |\n",
      "\t  |13|\n",
      "  fully connected  (10,)   ->   weights + bias: (10, 100) + (10,)\n",
      "\t   |\n",
      "\t   |\n",
      "\t  |14|\n",
      "  \tOUTPUT  (10,)   ->   CRITERION  (softmax)\n",
      "------------------------------\n",
      "Working with network: newtest1-2conv-3abstract-layer500-300-10\n"
     ]
    }
   ],
   "source": [
    "import matplotlib.pyplot as plt\n",
    "import sys\n",
    "import numpy as np\n",
    "import network_module as nm\n",
    "import argparse\n",
    "\n",
    "def print_csv(filename, data):\n",
    "    with open(filename, 'wb') as out:\n",
    "        for t in data:\n",
    "            out.write('{}\\t{}\\n'.format(*t))\n",
    "\n",
    "\n",
    "# layer_params = sys.argv[1:]\n",
    "\n",
    "# netname = 'mnist-fc-784-'\n",
    "# for width in layer_params:\n",
    "#     netname += '{}-'.format(width)\n",
    "# netname += '10'\n",
    "reg = 0\n",
    "L1 = False\n",
    "L2 = False\n",
    "L05 = False\n",
    "netname = 'newtest1-2conv-3abstract-layer500-300-10'\n",
    "data_source = \"https://www.cs.toronto.edu/~kriz/cifar-10-python.tar.gz\"\n",
    "\n",
    "def loadcifar():\n",
    "    import cPickle\n",
    "    import os.path\n",
    "\n",
    "    if not os.path.exists('./cifar-10-batches-py/data_batch_1'):\n",
    "        print 'Downloading train data from', data_source\n",
    "        import urllib\n",
    "        import tarfile\n",
    "        if not os.path.exists('./cifar-10-batches-py/'):\n",
    "            os.makedirs('./cifar-10-batches-py/')\n",
    "            \n",
    "        dest = \"./cifar-10-batches-py/data.tar.gz\"\n",
    "        urllib.urlretrieve(data_source, dest)\n",
    "        print 'unzipping train data'\n",
    "        tar = tarfile.open(dest, \"r:gz\")\n",
    "        tar.extractall()\n",
    "        tar.close()\n",
    "    \n",
    "    \n",
    "    # Load the dataset\n",
    "    f = open('./cifar-10-batches-py/data_batch_1', 'rb')\n",
    "    train = cPickle.load(f)\n",
    "    f.close()\n",
    "    train_data = train['data'].reshape(-1,3,32,32).astype(float)\n",
    "    train_data /= 255.\n",
    "    label = np.array(train['labels'])\n",
    "    train_onehot = np.zeros((label.size, label.max() + 1))\n",
    "    train_onehot[np.arange(label.size), label] = 1\n",
    "\n",
    "    f = open('./cifar-10-batches-py/test_batch', 'rb')\n",
    "    test = cPickle.load(f)\n",
    "    f.close()\n",
    "    test_data = test['data'][:1000].reshape(-1,3,32,32).astype(float)\n",
    "    test_data /= 255.\n",
    "    label = np.array(test['labels'])\n",
    "    test_onehot = np.zeros((label.size, label.max() + 1))\n",
    "    test_onehot[np.arange(label.size), label] = 1\n",
    "\n",
    "\n",
    "    return [(train_data, train_onehot), (test_data, test_onehot)]\n",
    "\n",
    "\n",
    "print 'Loading CIFAR images...'\n",
    "train, test = loadcifar()\n",
    "train = (train[0][:100], train[1][:100])\n",
    "test = (test[0][:100], test[1][:100])\n",
    "\n",
    "print 'Constructing network...'\n",
    "#########################\n",
    "# NETWORK DEFINITION\n",
    "nn = nm.network(in_shape=train[0][0].shape, criterion='softmax')\n",
    "nn.add_conv(10, (3,3), sharp=True)\n",
    "nn.add_maxpool()\n",
    "nn.add_activation('relu')\n",
    "nn.add_batchnorm(0.5, 1)\n",
    "nn.add_conv(10, (3,3), sharp=True)\n",
    "nn.add_activation('relu')\n",
    "nn.add_conv(10, (3,3), sharp=True)\n",
    "nn.add_activation('relu')\n",
    "nn.add_batchnorm(0.5, 1)\n",
    "nn.add_shaper(np.prod(nn[-1].shape))\n",
    "nn.add_full(100, sharp=True)\n",
    "nn.add_activation('tanh')\n",
    "nn.add_full(10, sharp=True)\n",
    "#########################\n",
    "print nn\n",
    "\n",
    "result = []\n",
    "nn.s\n",
    "\n",
    "def print_test(loss_list):\n",
    "    global result\n",
    "    result.append(np.mean(loss_list))\n",
    "    print ' --- Epoch: ', nn.last_epoch,\\\n",
    "    '  Mean loss: ', np.mean(loss_list)\n",
    "    \n",
    "def print_loss(loss):\n",
    "    global result\n",
    "    result += loss\n",
    "    print loss\n",
    "\n",
    "print 'Working with network:', netname\n",
    "def train_net():\n",
    "  print 'Training network:', netname\n",
    "  nn.SGD(train_policy=nn.fix_epoch,\n",
    "         training_set=train,\n",
    "         batch=20, rate=0.01, \n",
    "         epoch_call_back=print_test, \n",
    "#         batch_call_back=print_loss,\n",
    "         epoch=25)\n",
    "\n",
    "  \n",
    "  plt.show(plt.plot(result))\n",
    "    \n",
    "  print 'Saving network snapshot to {}.net'.format(netname)\n",
    "  nn.save_state('./nets/' + netname + '.net')\n",
    "\n",
    "\n",
    "\n",
    "def loadnetwork(network_source):\n",
    "    global nn\n",
    "    nn = nm.load(network_source)\n",
    "\n",
    "    \n",
    "def imshow(im, cmap='Greys_r', interpol='None'):\n",
    "\n",
    "    if len(im.shape) == 2:\n",
    "        plt.imshow(im.squeeze(), cmap=cmap, interpolation=interpol)\n",
    "        plt.axis('off')\n",
    "    \n",
    "    if len(im.shape) == 3:\n",
    "        for i, x in enumerate(im, 1):\n",
    "            plt.subplot(1, len(im), i)\n",
    "            plt.imshow(x.squeeze(), cmap=cmap, interpolation=interpol)\n",
    "            plt.gca().xaxis.set_major_locator(plt.NullLocator())\n",
    "            plt.axis('off')\n",
    "    if len(im.shape) == 4:\n",
    "        for irow, xrow in enumerate(im, 0):\n",
    "            for icol, x in enumerate(xrow, 1):\n",
    "                #print '\\r  ', len(im), len(xrow), irow * len(xrow) + icol\n",
    "                plt.subplot(len(im), len(xrow), irow * len(xrow) + icol)\n",
    "                plt.imshow(x.squeeze(), cmap=cmap, interpolation=interpol)\n",
    "                plt.gca().xaxis.set_major_locator(plt.NullLocator())\n",
    "                plt.axis('off')\n",
    "                \n",
    "    if len(im.shape) == 5:\n",
    "        for irow, xrow in enumerate(im, 0):\n",
    "            for icol, x in enumerate(xrow, 1):\n",
    "                #print '\\r  ', len(im), len(xrow), irow * len(xrow) + icol\n",
    "                plt.subplot(len(im), len(xrow), irow * len(xrow) + icol)\n",
    "                plt.imshow(x.squeeze(), cmap=cmap, interpolation=interpol)\n",
    "                plt.gca().xaxis.set_major_locator(plt.NullLocator())\n",
    "                plt.axis('off')\n",
    "    \n",
    "    plt.show()\n",
    "    return im.shape\n",
    "\n",
    "\n",
    "def visualise_layer(lay_ind=4, top=9, iterations=1000):\n",
    "    test = nn.grad_ascent(lay_ind, train[0], top, iterations)\\\n",
    "             .reshape((top,) + nn[lay_ind].shape + (3, 32, 32))\n",
    "    test = np.concatenate((test, test.mean(axis=0)[np.newaxis, :]), axis=0)\n",
    "    return test\n",
    "\n",
    "\n",
    "def max_act(lay_ind, top=9):\n",
    "    return test[0][nn.max_act(lay_ind, test[0], top)].squeeze()\n",
    "    \n",
    "def gradient_check(eps=0.001):\n",
    "    nn[1].kernels[0,0,0,0] += eps\n",
    "    dp = nn.output.get_crit(test[0][0], test[1][0])[0]\n",
    "    nn[1].kernels[0,0,0,0] -= 2 * eps\n",
    "    dm = nn.output.get_crit(test[0][0], test[1][0])[0]    \n",
    "    nn[1].kernels[0,0,0,0] += eps\n",
    "    return (dp-dm)/2/eps\n"
   ]
  },
  {
   "cell_type": "code",
   "execution_count": 8,
   "metadata": {
    "collapsed": false
   },
   "outputs": [
    {
     "data": {
      "image/png": "[encoded data removed]",
      "text/plain": [
       "<matplotlib.figure.Figure at 0x7f2a4bd17c50>"
      ]
     },
     "metadata": {},
     "output_type": "display_data"
    },
    {
     "data": {
      "text/plain": [
       "(5, 10, 13, 13)"
      ]
     },
     "execution_count": 8,
     "metadata": {},
     "output_type": "execute_result"
    }
   ],
   "source": [
    "def print_outputs(lay=[3,4,5,6,7]):\n",
    "    nn.get_output(train[0][:5])\n",
    "    for l in lay:\n",
    "        imshow(nn[l].output)\n",
    "# print_outputs()  \n",
    "\n",
    "nn.get_output(train[0][:5])\n",
    "imshow(nn[5].output)"
   ]
  },
  {
   "cell_type": "code",
   "execution_count": 7,
   "metadata": {
    "collapsed": false
   },
   "outputs": [
    {
     "data": {
      "text/plain": [
       "array([[ 0.08,  0.19,  0.11,  0.12,  0.1 ,  0.06,  0.06,  0.1 ,  0.07,\n",
       "         0.11],\n",
       "       [ 0.08,  0.19,  0.11,  0.12,  0.1 ,  0.06,  0.06,  0.1 ,  0.07,\n",
       "         0.11],\n",
       "       [ 0.08,  0.19,  0.11,  0.12,  0.1 ,  0.06,  0.06,  0.1 ,  0.07,\n",
       "         0.11]])"
      ]
     },
     "execution_count": 7,
     "metadata": {},
     "output_type": "execute_result"
    }
   ],
   "source": [
    "np.set_printoptions(threshold=np)\n",
    "nn.get_output(train[0][:3])"
   ]
  },
  {
   "cell_type": "code",
   "execution_count": 6,
   "metadata": {
    "collapsed": false
   },
   "outputs": [
    {
     "name": "stdout",
     "output_type": "stream",
     "text": [
      "Training network: newtest1-2conv-3abstract-layer500-300-10\n",
      "   batch: 5 of 5  --- Epoch:  1   Mean loss:  2.2961217651\n",
      "   batch: 5 of 5  --- Epoch:  2   Mean loss:  2.27875956205\n",
      "   batch: 5 of 5  --- Epoch:  3   Mean loss:  2.2719582996\n",
      "   batch: 5 of 5  --- Epoch:  4   Mean loss:  2.26902948\n",
      "   batch: 5 of 5  --- Epoch:  5   Mean loss:  2.26759091364\n",
      "   batch: 5 of 5  --- Epoch:  6   Mean loss:  2.26674734313\n",
      "   batch: 5 of 5  --- Epoch:  7   Mean loss:  2.26614246096\n",
      "   batch: 5 of 5  --- Epoch:  8   Mean loss:  2.26562945084\n",
      "   batch: 5 of 5  --- Epoch:  9   Mean loss:  2.265147611\n",
      "   batch: 5 of 5  --- Epoch:  10   Mean loss:  2.26467277821\n",
      "   batch: 5 of 5  --- Epoch:  11   Mean loss:  2.26419641904\n",
      "   batch: 5 of 5  --- Epoch:  12   Mean loss:  2.26371654403\n",
      "   batch: 5 of 5  --- Epoch:  13   Mean loss:  2.26323371967\n",
      "   batch: 5 of 5  --- Epoch:  14   Mean loss:  2.2627493338\n",
      "   batch: 5 of 5  --- Epoch:  15   Mean loss:  2.26226487523\n",
      "   batch: 5 of 5  --- Epoch:  16   Mean loss:  2.26178165866\n",
      "   batch: 5 of 5  --- Epoch:  17   Mean loss:  2.26130075311\n",
      "   batch: 5 of 5  --- Epoch:  18   Mean loss:  2.2608229853\n",
      "   batch: 5 of 5  --- Epoch:  19   Mean loss:  2.2603489723\n",
      "   batch: 5 of 5  --- Epoch:  20   Mean loss:  2.25987916794\n",
      "   batch: 5 of 5  --- Epoch:  21   Mean loss:  2.25941389091\n",
      "   batch: 5 of 5  --- Epoch:  22   Mean loss:  2.25895336045\n",
      "   batch: 5 of 5  --- Epoch:  23   Mean loss:  2.2584977235\n",
      "   batch: 5 of 5  --- Epoch:  24   Mean loss:  2.25804707011\n",
      "   batch: 5 of 5  --- Epoch:  25   Mean loss:  2.25760144813\n"
     ]
    },
    {
     "data": {
      "image/png": "[encoded data removed]",
      "text/plain": [
       "<matplotlib.figure.Figure at 0x7f2a4a72ae50>"
      ]
     },
     "metadata": {},
     "output_type": "display_data"
    },
    {
     "name": "stdout",
     "output_type": "stream",
     "text": [
      "Saving network snapshot to newtest1-2conv-3abstract-layer500-300-10.net\n"
     ]
    }
   ],
   "source": [
    "train_net()"
   ]
  },
  {
   "cell_type": "code",
   "execution_count": 43,
   "metadata": {
    "collapsed": false
   },
   "outputs": [
    {
     "name": "stdout",
     "output_type": "stream",
     "text": [
      "Training network: newtest1-2conv-3abstract-layer500-300-10\n",
      "   batch: 50 of 50  --- Epoch:  1   Mean loss:  2.37773550762\n",
      "   batch: 50 of 50  --- Epoch:  2   Mean loss:  2.36626002161\n",
      "   batch: 50 of 50  --- Epoch:  3   Mean loss:  2.36550006123\n",
      "   batch: 50 of 50  --- Epoch:  4   Mean loss:  2.36489011701\n",
      "   batch: 50 of 50  --- Epoch:  5   Mean loss:  2.3644410387\n",
      "   batch: 50 of 50  --- Epoch:  6   Mean loss:  2.36415786978\n",
      "   batch: 50 of 50  --- Epoch:  7   Mean loss:  2.3640471988\n",
      "   batch: 50 of 50  --- Epoch:  8   Mean loss:  2.36411752595\n",
      "   batch: 50 of 50  --- Epoch:  9   Mean loss:  2.36438037728\n",
      "   batch: 50 of 50  --- Epoch:  10   Mean loss:  2.3648507695\n",
      "   batch: 50 of 50  --- Epoch:  11   Mean loss:  2.36554774726\n",
      "   batch: 50 of 50  --- Epoch:  12   Mean loss:  2.36649656202\n",
      "   batch: 50 of 50  --- Epoch:  13   Mean loss:  2.36773292137\n",
      "   batch: 50 of 50  --- Epoch:  14   Mean loss:  2.3693092457\n",
      "   batch: 50 of 50  --- Epoch:  15   Mean loss:  2.37131552246\n",
      "   batch: 50 of 50  --- Epoch:  16   Mean loss:  2.37397777151\n",
      "   batch: 50 of 50  --- Epoch:  17   Mean loss:  2.37766927578\n",
      "   batch: 50 of 50  --- Epoch:  18   Mean loss:  2.38228239631\n",
      "   batch: 50 of 50  --- Epoch:  19   Mean loss:  2.38740702538\n",
      "   batch: 50 of 50  --- Epoch:  20   Mean loss:  2.393074289\n",
      "   batch: 50 of 50  --- Epoch:  21   Mean loss:  2.39960762064\n",
      "   batch: 50 of 50  --- Epoch:  22   Mean loss:  2.407333246\n",
      "   batch: 50 of 50  --- Epoch:  23   Mean loss:  2.41638604392\n",
      "   batch: 50 of 50  --- Epoch:  24   Mean loss:  2.42698803794\n",
      "   batch: 50 of 50  --- Epoch:  25   Mean loss:  2.43964013018\n"
     ]
    },
    {
     "data": {
      "image/png": "[encoded data removed]",
      "text/plain": [
       "<matplotlib.figure.Figure at 0x7fc4971fb2d0>"
      ]
     },
     "metadata": {},
     "output_type": "display_data"
    },
    {
     "name": "stdout",
     "output_type": "stream",
     "text": [
      "Saving network snapshot to newtest1-2conv-3abstract-layer500-300-10.net\n"
     ]
    }
   ],
   "source": [
    "train_net()"
   ]
  },
  {
   "cell_type": "code",
   "execution_count": 13,
   "metadata": {
    "collapsed": false
   },
   "outputs": [
    {
     "name": "stdout",
     "output_type": "stream",
     "text": [
      "(20, 3, 32, 32)\n",
      "(20, 3, 30, 30)\n",
      "(1, 3, 15, 15)\n",
      "(1, 3, 15, 15)\n",
      "(1, 3, 15, 15)\n",
      "(1, 3, 13, 13)\n",
      "(1, 3, 13, 13)\n",
      "(1, 3, 13, 13)\n",
      "(1, 507)\n",
      "(1, 300)\n",
      "(1, 300)\n",
      "(1, 10)\n"
     ]
    },
    {
     "ename": "AttributeError",
     "evalue": "output instance has no attribute 'delta'",
     "output_type": "error",
     "traceback": [
      "\u001b[0;31m---------------------------------------------------------------------------\u001b[0m",
      "\u001b[0;31mAttributeError\u001b[0m                            Traceback (most recent call last)",
      "\u001b[0;32m<ipython-input-13-96c9623074e5>\u001b[0m in \u001b[0;36m<module>\u001b[0;34m()\u001b[0m\n\u001b[1;32m      1\u001b[0m \u001b[0;32mfor\u001b[0m \u001b[0ml\u001b[0m \u001b[0;32min\u001b[0m \u001b[0mnn\u001b[0m\u001b[0;34m:\u001b[0m\u001b[0;34m\u001b[0m\u001b[0m\n\u001b[0;32m----> 2\u001b[0;31m     \u001b[0;32mprint\u001b[0m \u001b[0ml\u001b[0m\u001b[0;34m.\u001b[0m\u001b[0mdelta\u001b[0m\u001b[0;34m.\u001b[0m\u001b[0mshape\u001b[0m\u001b[0;34m\u001b[0m\u001b[0m\n\u001b[0m",
      "\u001b[0;31mAttributeError\u001b[0m: output instance has no attribute 'delta'"
     ]
    }
   ],
   "source": [
    "for l in nn:\n",
    "    print l.delta.shape"
   ]
  },
  {
   "cell_type": "code",
   "execution_count": 7,
   "metadata": {
    "collapsed": false
   },
   "outputs": [],
   "source": [
    "act = nn[8]"
   ]
  },
  {
   "cell_type": "code",
   "execution_count": 8,
   "metadata": {
    "collapsed": false
   },
   "outputs": [
    {
     "name": "stdout",
     "output_type": "stream",
     "text": [
      "(20, 300) (1, 300)\n",
      "False\n"
     ]
    }
   ],
   "source": [
    "old_input = act.prev.output\n",
    "act.input = old_input\n",
    "old_delta = act.backprop_delta(act.delta)\n",
    "\n",
    "mean_input = act.input.mean(axis=0)\n",
    "act.input = mean_input\n",
    "curr_delta = act.backprop_delta(act.delta)\n",
    "\n",
    "print old_delta.shape, curr_delta.shape\n",
    "print np.all(old_delta.mean(axis=0) == curr_delta)"
   ]
  },
  {
   "cell_type": "code",
   "execution_count": 65,
   "metadata": {
    "collapsed": false
   },
   "outputs": [
    {
     "data": {
      "text/plain": [
       "10140"
      ]
     },
     "execution_count": 65,
     "metadata": {},
     "output_type": "execute_result"
    }
   ],
   "source": [
    "np.count_nonzero(nn[6].delta)"
   ]
  },
  {
   "cell_type": "code",
   "execution_count": 10,
   "metadata": {
    "collapsed": false
   },
   "outputs": [
    {
     "data": {
      "text/plain": [
       "0.49999999999999933"
      ]
     },
     "execution_count": 10,
     "metadata": {},
     "output_type": "execute_result"
    }
   ],
   "source": [
    "nn[4].output.mean()"
   ]
  },
  {
   "cell_type": "code",
   "execution_count": 2,
   "metadata": {
    "collapsed": false
   },
   "outputs": [
    {
     "ename": "AttributeError",
     "evalue": "Conv instance has no attribute 'output'",
     "output_type": "error",
     "traceback": [
      "\u001b[0;31m---------------------------------------------------------------------------\u001b[0m",
      "\u001b[0;31mAttributeError\u001b[0m                            Traceback (most recent call last)",
      "\u001b[0;32m<ipython-input-2-d410ee5d0547>\u001b[0m in \u001b[0;36m<module>\u001b[0;34m()\u001b[0m\n\u001b[1;32m      1\u001b[0m \u001b[0mnn\u001b[0m\u001b[0;34m[\u001b[0m\u001b[0;36m1\u001b[0m\u001b[0;34m]\u001b[0m\u001b[0;34m.\u001b[0m\u001b[0mkernels\u001b[0m\u001b[0;34m[\u001b[0m\u001b[0;36m0\u001b[0m\u001b[0;34m,\u001b[0m\u001b[0;36m0\u001b[0m\u001b[0;34m]\u001b[0m\u001b[0;34m\u001b[0m\u001b[0m\n\u001b[0;32m----> 2\u001b[0;31m \u001b[0mimshow\u001b[0m\u001b[0;34m(\u001b[0m\u001b[0mnp\u001b[0m\u001b[0;34m.\u001b[0m\u001b[0msum\u001b[0m\u001b[0;34m(\u001b[0m\u001b[0mnn\u001b[0m\u001b[0;34m[\u001b[0m\u001b[0;36m1\u001b[0m\u001b[0;34m]\u001b[0m\u001b[0;34m.\u001b[0m\u001b[0moutput\u001b[0m\u001b[0;34m[\u001b[0m\u001b[0;36m1\u001b[0m\u001b[0;34m,\u001b[0m\u001b[0;34m:\u001b[0m\u001b[0;36m3\u001b[0m\u001b[0;34m]\u001b[0m\u001b[0;34m,\u001b[0m \u001b[0maxis\u001b[0m\u001b[0;34m=\u001b[0m\u001b[0;36m0\u001b[0m\u001b[0;34m)\u001b[0m\u001b[0;34m)\u001b[0m\u001b[0;34m\u001b[0m\u001b[0m\n\u001b[0m\u001b[1;32m      3\u001b[0m \u001b[0mimshow\u001b[0m\u001b[0;34m(\u001b[0m\u001b[0mnn\u001b[0m\u001b[0;34m[\u001b[0m\u001b[0;36m1\u001b[0m\u001b[0;34m]\u001b[0m\u001b[0;34m.\u001b[0m\u001b[0moutput\u001b[0m\u001b[0;34m[\u001b[0m\u001b[0;36m1\u001b[0m\u001b[0;34m,\u001b[0m\u001b[0;36m0\u001b[0m\u001b[0;34m]\u001b[0m\u001b[0;34m)\u001b[0m\u001b[0;34m\u001b[0m\u001b[0m\n",
      "\u001b[0;31mAttributeError\u001b[0m: Conv instance has no attribute 'output'"
     ]
    }
   ],
   "source": [
    "nn[1].kernels[0,0]\n",
    "imshow(np.sum(nn[1].output[1,:3], axis=0))\n",
    "imshow(nn[1].output[1,0])"
   ]
  },
  {
   "cell_type": "code",
   "execution_count": 4,
   "metadata": {
    "collapsed": false
   },
   "outputs": [
    {
     "data": {
      "image/png": "[encoded data removed]",
      "text/plain": [
       "<matplotlib.figure.Figure at 0x7f2eab0c6810>"
      ]
     },
     "metadata": {},
     "output_type": "display_data"
    },
    {
     "data": {
      "image/png": "[encoded data removed]",
      "text/plain": [
       "<matplotlib.figure.Figure at 0x7f2e74629bd0>"
      ]
     },
     "metadata": {},
     "output_type": "display_data"
    },
    {
     "data": {
      "text/plain": [
       "(30, 30)"
      ]
     },
     "execution_count": 4,
     "metadata": {},
     "output_type": "execute_result"
    }
   ],
   "source": [
    "nn[1].kernels[0,0]\n",
    "imshow(np.sum(nn[1].output[1,:3], axis=0))\n",
    "imshow(nn[1].output[1,0])"
   ]
  },
  {
   "cell_type": "code",
   "execution_count": 8,
   "metadata": {
    "collapsed": false
   },
   "outputs": [
    {
     "data": {
      "image/png": "[encoded data removed]",
      "text/plain": [
       "<matplotlib.figure.Figure at 0x7fa05c020990>"
      ]
     },
     "metadata": {},
     "output_type": "display_data"
    },
    {
     "data": {
      "image/png": "[encoded data removed]",
      "text/plain": [
       "<matplotlib.figure.Figure at 0x7fa05c1b1a90>"
      ]
     },
     "metadata": {},
     "output_type": "display_data"
    },
    {
     "data": {
      "text/plain": [
       "(28, 28)"
      ]
     },
     "execution_count": 8,
     "metadata": {},
     "output_type": "execute_result"
    }
   ],
   "source": [
    "nn[1].kernels[0,0]\n",
    "imshow(nn[0].output[0,:3])\n",
    "imshow(nn[1].output[0,0])"
   ]
  },
  {
   "cell_type": "code",
   "execution_count": 23,
   "metadata": {
    "collapsed": false
   },
   "outputs": [
    {
     "data": {
      "image/png": "[encoded data removed]",
      "text/plain": [
       "<matplotlib.figure.Figure at 0x7f1a9ee00f90>"
      ]
     },
     "metadata": {},
     "output_type": "display_data"
    },
    {
     "data": {
      "text/plain": [
       "(3, 10, 5, 5)"
      ]
     },
     "execution_count": 23,
     "metadata": {},
     "output_type": "execute_result"
    }
   ],
   "source": [
    "imshow(nn[1].kernels)"
   ]
  },
  {
   "cell_type": "code",
   "execution_count": 30,
   "metadata": {
    "collapsed": false
   },
   "outputs": [
    {
     "name": "stdout",
     "output_type": "stream",
     "text": [
      "[[ 0.3   0.34 ...,  0.17  0.21]\n",
      " [ 0.62  0.37 ...,  0.82  0.73]\n",
      " ..., \n",
      " [ 0.72  0.44 ...,  0.4   0.39]\n",
      " [ 0.61  0.64 ...,  0.68  0.14]]\n",
      "[[ 0.37  0.62 ...,  0.37  0.22]\n",
      " [ 0.57  0.56 ...,  0.6   0.19]\n",
      " ..., \n",
      " [ 0.94  0.8  ...,  0.81  0.55]\n",
      " [ 0.87  0.06 ...,  0.55  0.25]]\n",
      "[[ 0.93  0.57 ...,  0.22  0.3 ]\n",
      " [ 0.75  0.88 ...,  0.34  0.8 ]\n",
      " ..., \n",
      " [ 0.04  0.65 ...,  0.83  0.85]\n",
      " [ 0.69  0.24 ...,  0.71  0.3 ]]\n",
      "[[ 0.4   0.19 ...,  0.79  0.49]\n",
      " [ 0.17  0.51 ...,  0.18  0.39]\n",
      " ..., \n",
      " [ 0.97  0.48 ...,  0.7   0.27]\n",
      " [ 0.78  0.93 ...,  0.46  0.13]]\n",
      "[[ 0.98  0.24 ...,  1.    0.58]\n",
      " [ 0.2   0.9  ...,  0.03  0.23]\n",
      " ..., \n",
      " [ 0.74  0.26 ...,  0.29  0.62]\n",
      " [ 0.98  0.24 ...,  0.51  0.31]]\n"
     ]
    }
   ],
   "source": [
    "for k in nn[1].kernels[0]: print k"
   ]
  },
  {
   "cell_type": "code",
   "execution_count": null,
   "metadata": {
    "collapsed": true
   },
   "outputs": [],
   "source": []
  }
 ],
 "metadata": {
  "kernelspec": {
   "display_name": "Python 2",
   "language": "python",
   "name": "python2"
  },
  "language_info": {
   "codemirror_mode": {
    "name": "ipython",
    "version": 2
   },
   "file_extension": ".py",
   "mimetype": "text/x-python",
   "name": "python",
   "nbconvert_exporter": "python",
   "pygments_lexer": "ipython2",
   "version": "2.7.12"
  }
 },
 "nbformat": 4,
 "nbformat_minor": 1
}
