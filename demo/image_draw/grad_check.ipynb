{
 "cells": [
  {
   "cell_type": "code",
   "execution_count": 2,
   "metadata": {
    "collapsed": false
   },
   "outputs": [
    {
     "name": "stdout",
     "output_type": "stream",
     "text": [
      "Loading MNIST images...\n",
      "Constructing network...\n",
      "Network ID: 139735903003664\n",
      "Network layout:\n",
      "------------------------------\n",
      "\tINPUT  (1, 28, 28)\n",
      "\t   |\n",
      "\t   |\n",
      "\t  |1|\n",
      "  convolution  (1, 26, 26)   ->   kernels: (1, 1, 3, 3)\n",
      "\t   |\n",
      "\t   |\n",
      "\t  |2|\n",
      "  \tOUTPUT  (1, 26, 26)   ->   CRITERION  (MSE)\n",
      "------------------------------\n"
     ]
    }
   ],
   "source": [
    "import matplotlib.pyplot as plt\n",
    "import sys\n",
    "import numpy as np\n",
    "import network_module as nm\n",
    "import argparse\n",
    "\n",
    "def print_csv(filename, data):\n",
    "    with open(filename, 'wb') as out:\n",
    "        for t in data:\n",
    "            out.write('{}\\t{}\\n'.format(*t))\n",
    "\n",
    "\n",
    "# layer_params = sys.argv[1:]\n",
    "\n",
    "# netname = 'mnist-fc-784-'\n",
    "# for width in layer_params:\n",
    "#     netname += '{}-'.format(width)\n",
    "# netname += '10'\n",
    "reg = 0\n",
    "L1 = False\n",
    "L2 = False\n",
    "L05 = False\n",
    "netname = 'conv5-3x3-maxpool-100'\n",
    "data_source = \"https://www.cs.toronto.edu/~kriz/cifar-10-python.tar.gz\"\n",
    "\n",
    "def loadmnist():\n",
    "    import cPickle, gzip, numpy\n",
    "\n",
    "    # Load the dataset\n",
    "    f = gzip.open('./MNIST_data/mnist.pkl.gz', 'rb')\n",
    "    sets = cPickle.load(f)\n",
    "    f.close()\n",
    "    res = []\n",
    "    for set in sets:\n",
    "        set[0].shape = (-1, 1, 28, 28)\n",
    "\n",
    "        label = set[1]\n",
    "        onehot = np.zeros((label.size, label.max() + 1))\n",
    "        onehot[np.arange(label.size), label] = 1\n",
    "        res.append((set[0].reshape(-1, 1, 28, 28), onehot))\n",
    "    return res\n",
    "\n",
    "\n",
    "print 'Loading MNIST images...'\n",
    "train, test, _= loadmnist()\n",
    "\n",
    "\n",
    "# train = (np.zeros((50, 1, 20, 20)), np.zeros((50 ,1 ,8 , 8)))\n",
    "# train[0][0,:,5,5] = 0.5\n",
    "# train[1][0,:,4,4] = 1\n",
    "\n",
    "def loadnetwork(network_source):\n",
    "    global nn\n",
    "    nn = nm.load(network_source)\n",
    "\n",
    "\n",
    "print 'Constructing network...'\n",
    "#########################\n",
    "# NETWORK DEFINITION\n",
    "nn = nm.network(in_shape=train[0][0].shape, criterion='MSE')\n",
    "nn.add_conv(1, (3, 3))\n",
    "\n",
    "#########################\n",
    "print nn\n",
    "    \n",
    "def imshow(im, cmap='Greys', interpol='None'):\n",
    "    plt.subplots_adjust(left=0, bottom=0, right=1, top=1, wspace=0, hspace=0)\n",
    "    if len(im.shape) == 3:\n",
    "        for i, x in enumerate(im, 1):\n",
    "            plt.subplot(1, len(im), i)\n",
    "            plt.imshow(x.squeeze(), cmap=cmap, interpolation=interpol)\n",
    "            plt.gca().xaxis.set_major_locator(plt.NullLocator())\n",
    "            plt.gca().yaxis.set_major_locator(plt.NullLocator())\n",
    "    if len(im.shape) == 4:\n",
    "        for irow, xrow in enumerate(im, 0):\n",
    "            for icol, x in enumerate(xrow, 1):\n",
    "                # print '\\r  ', len(im), len(xrow), irow * len(xrow) + icol\n",
    "                plt.subplot(len(im), len(xrow), irow * len(xrow) + icol)\n",
    "                plt.imshow(x.squeeze(), cmap=cmap, interpolation=interpol)\n",
    "                plt.gca().xaxis.set_major_locator(plt.NullLocator())\n",
    "                plt.gca().yaxis.set_major_locator(plt.NullLocator())\n",
    "    plt.show()\n",
    "    return im.shape\n",
    "\n",
    "\n",
    "def visualise_layer(layer_ind=4, top=9, epoch=10, activation_set=train[0], biased=False, rate=0.05):\n",
    "    test = nn.grad_ascent(\n",
    "        layer_ind=layer_ind, \n",
    "        activation_set=activation_set, \n",
    "        top=top, \n",
    "        epoch=epoch, \n",
    "        biased=biased)\n",
    "    test = test.reshape((top,) + nn[layer_ind].shape + (28, 28))\n",
    "    test = np.concatenate((test, test.mean(axis=0)[np.newaxis, :]), axis=0)\n",
    "    return test\n",
    "\n",
    "def max_act(lay_ind, top=9):\n",
    "    return test[0][nn.max_act(lay_ind, test[0], top)].squeeze()\n",
    "\n"
   ]
  },
  {
   "cell_type": "code",
   "execution_count": 18,
   "metadata": {
    "collapsed": false
   },
   "outputs": [
    {
     "name": "stdout",
     "output_type": "stream",
     "text": [
      "454.903888855\n",
      "[[[[[ 140.26  157.44  166.91]\n",
      "    [ 159.4   178.74  190.96]\n",
      "    [ 175.92  189.19  200.37]]]]]\n",
      "140.258145152\n",
      "[ 0.57]\n"
     ]
    }
   ],
   "source": [
    "from scipy.signal import convolve2d\n",
    "x = train[0][0]\n",
    "k = np.zeros((3,3))\n",
    "k[1,1] = 1\n",
    "y = convolve2d(x[0], k, 'valid')\n",
    "#imshow(x.reshape(1,28,28))\n",
    "#imshow(y.reshape(1,26,26))\n",
    "\n",
    "print(nn.output.get_crit(input=x, target=y))\n",
    "nn[1].get_delta(y)\n",
    "p = nn[1].get_param_grad()[0]\n",
    "print  p\n",
    "print p[0,0,0,0,0]\n",
    "print nn[1].bias"
   ]
  },
  {
   "cell_type": "code",
   "execution_count": 3,
   "metadata": {
    "collapsed": false
   },
   "outputs": [
    {
     "data": {
      "text/plain": [
       "True"
      ]
     },
     "execution_count": 3,
     "metadata": {},
     "output_type": "execute_result"
    }
   ],
   "source": [
    "np.all(nn[1].output-y == nn[1].delta)\n",
    "#print nn[1].delta.shape\n",
    "#np.all(p == convolve2d(x[0], nn[1].delta[0,0], 'valid'))"
   ]
  },
  {
   "cell_type": "code",
   "execution_count": 35,
   "metadata": {
    "collapsed": false
   },
   "outputs": [],
   "source": [
    "def print_test():\n",
    "    print nn.output.get_crit(input=x, target=y)\n",
    "    \n",
    "def train_net():\n",
    "  nn.SGD(train_policy=nn.fix_epoch,\n",
    "         training_set=(x[np.newaxis], y[np.newaxis, np.newaxis]),\n",
    "         batch=1, rate=0.005, \n",
    "         epoch_call_back=print_test(),\n",
    "         epoch=10)\n",
    "    \n",
    "\n",
    "    \n",
    "def gradtest(eps):\n",
    "    print 'AAAAAAAAAAAAAAAAAAAAA'\n",
    "    X = nn.get_output(x)\n",
    "    nn[1].kernels[0,0,1,0] += eps\n",
    "    dxp = nn.output.get_crit(input=x, target=y[None])\n",
    "    Xp = nn[1].output\n",
    "    \n",
    "    nn[1].kernels[0,0,1,0] -= 2 * eps\n",
    "    dxm = nn.output.get_crit(input=x, target=y[None])\n",
    "    Xm = nn[1].output\n",
    "    \n",
    "    print 0.5*np.sum((Xp - y[None])**2)\n",
    "    print dxp\n",
    "    print 0.5*np.sum((Xm - y[None])**2)\n",
    "    print dxm\n",
    "    nn[1].kernels[0,0,1,0] += eps\n",
    "    print 'BBBBBBBBBBBBBBBBBBBBB'\n",
    "    res = (dxp-dxm)/(2*eps)\n",
    "    return res\n"
   ]
  },
  {
   "cell_type": "code",
   "execution_count": 36,
   "metadata": {
    "collapsed": false
   },
   "outputs": [
    {
     "name": "stdout",
     "output_type": "stream",
     "text": [
      "AAAAAAAAAAAAAAAAAAAAA\n",
      "280.230156029\n",
      "280.230156029\n",
      "280.230156003\n",
      "280.230156003\n",
      "BBBBBBBBBBBBBBBBBBBBB\n",
      "129.355157696\n"
     ]
    }
   ],
   "source": [
    "print gradtest(1e-10)"
   ]
  },
  {
   "cell_type": "code",
   "execution_count": 8,
   "metadata": {
    "collapsed": false
   },
   "outputs": [
    {
     "name": "stdout",
     "output_type": "stream",
     "text": [
      "18006.5808399\n",
      "   batch: 1 of 1 asd\n",
      "[[[[ 1.06  1.04  1.52]\n",
      "   [ 0.83  1.68  0.92]\n",
      "   [ 1.3   1.55  1.59]]]]\n"
     ]
    },
    {
     "data": {
      "image/png": "[encoded data removed]",
      "text/plain": [
       "<matplotlib.figure.Figure at 0x7f41ae083950>"
      ]
     },
     "metadata": {},
     "output_type": "display_data"
    },
    {
     "data": {
      "image/png": "[encoded data removed]",
      "text/plain": [
       "<matplotlib.figure.Figure at 0x7f41ae0cfd90>"
      ]
     },
     "metadata": {},
     "output_type": "display_data"
    },
    {
     "data": {
      "text/plain": [
       "(1, 26, 26)"
      ]
     },
     "execution_count": 8,
     "metadata": {},
     "output_type": "execute_result"
    }
   ],
   "source": [
    "train_net()\n",
    "nn.last_epoch = 0\n",
    "print 'asd'\n",
    "\n",
    "print nn[1].kernels\n",
    "imshow(nn[1].output)\n",
    "imshow(y[None])"
   ]
  },
  {
   "cell_type": "code",
   "execution_count": null,
   "metadata": {
    "collapsed": true
   },
   "outputs": [],
   "source": []
  },
  {
   "cell_type": "code",
   "execution_count": null,
   "metadata": {
    "collapsed": true
   },
   "outputs": [],
   "source": []
  }
 ],
 "metadata": {
  "kernelspec": {
   "display_name": "Python 2",
   "language": "python",
   "name": "python2"
  },
  "language_info": {
   "codemirror_mode": {
    "name": "ipython",
    "version": 2
   },
   "file_extension": ".py",
   "mimetype": "text/x-python",
   "name": "python",
   "nbconvert_exporter": "python",
   "pygments_lexer": "ipython2",
   "version": "2.7.12"
  }
 },
 "nbformat": 4,
 "nbformat_minor": 1
}
